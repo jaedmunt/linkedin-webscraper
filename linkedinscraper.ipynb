{
 "cells": [
  {
   "cell_type": "code",
   "execution_count": 23,
   "metadata": {},
   "outputs": [],
   "source": [
    "import pandas as pd\n",
    "import numpy as np\n",
    "from time import sleep\n",
    "import re\n",
    "from bs4 import BeautifulSoup\n",
    "from selenium import webdriver\n",
    "from selenium.webdriver.chrome.service import Service\n",
    "from selenium.webdriver.common.by import By\n",
    "from selenium.webdriver.chrome.options import Options\n",
    "from selenium.webdriver.common.keys import Keys"
   ]
  },
  {
   "cell_type": "code",
   "execution_count": 88,
   "metadata": {},
   "outputs": [],
   "source": [
    "def souper(page_source):\n",
    "    soup = BeautifulSoup(page_source, 'html.parser')\n",
    "    return soup\n",
    "def soupfinder(ElemName, ElemClass):\n",
    "    result = soup.find(name=ElemName, class_=ElemClass).text\n",
    "    return result\n",
    "\n",
    "regex = r'&keywords=data%20analyst&refresh=true'"
   ]
  },
  {
   "cell_type": "code",
   "execution_count": 8,
   "metadata": {},
   "outputs": [],
   "source": [
    "#private data login, password\n",
    "userEmail = \"userEmail\"\n",
    "userPass = \"userPassword\"\n",
    "keywords = \"Data analyst\""
   ]
  },
  {
   "cell_type": "code",
   "execution_count": 153,
   "metadata": {},
   "outputs": [],
   "source": [
    "#empty arrays for pandas\n",
    "\n",
    "pageSources = []\n",
    "companyNames = []\n",
    "positions = []\n",
    "locations = []\n",
    "contractTypes = []\n",
    "requirements = []\n",
    "\n"
   ]
  },
  {
   "cell_type": "code",
   "execution_count": 146,
   "metadata": {},
   "outputs": [],
   "source": [
    "#setting up chrome\n",
    "chrome_options = Options()\n",
    "chrome_options.add_argument(\"--no-sandbox\")\n",
    "driver = Service(\"chromedriver.exe\")\n",
    "browser = webdriver.Chrome(service=driver,options=chrome_options)"
   ]
  },
  {
   "cell_type": "code",
   "execution_count": 147,
   "metadata": {},
   "outputs": [],
   "source": [
    "#fetching website\n",
    "browser.get(\"https://linkedin.com/login\")\n",
    "sleep(5)\n",
    "\n",
    "#logging in\n",
    "username = browser.find_element(By.ID,\"username\").send_keys(userEmail)\n",
    "\n",
    "pword = browser.find_element(By.ID,\"password\").send_keys(userPass)\n",
    "\n",
    "\n",
    "browser.find_element(By.ID,\"password\").send_keys(Keys.RETURN)\n"
   ]
  },
  {
   "cell_type": "code",
   "execution_count": 149,
   "metadata": {},
   "outputs": [],
   "source": [
    "#searching for a job\n",
    "browser.get(\"https://www.linkedin.com/jobs/\")\n",
    "sleep(3)\n",
    "search_bars = browser.find_elements(By.CLASS_NAME,'jobs-search-box__text-input')\n",
    "search_keywords = search_bars[0]\n",
    "search_keywords.send_keys(keywords)\n",
    "sleep(2)\n",
    "search_keywords.send_keys(Keys.RETURN)\n",
    "\n"
   ]
  },
  {
   "cell_type": "code",
   "execution_count": 154,
   "metadata": {},
   "outputs": [
    {
     "name": "stdout",
     "output_type": "stream",
     "text": [
      "[<selenium.webdriver.remote.webelement.WebElement (session=\"74c9d0e8f8467b08ea38cfe8edf5209e\", element=\"784ad060-37de-4033-bc7f-8cad386df471\")>, <selenium.webdriver.remote.webelement.WebElement (session=\"74c9d0e8f8467b08ea38cfe8edf5209e\", element=\"4d78ad1a-7145-4350-ba95-1abbcdd1bbfa\")>, <selenium.webdriver.remote.webelement.WebElement (session=\"74c9d0e8f8467b08ea38cfe8edf5209e\", element=\"c2c4ced6-1794-4ef0-b3fb-47a09eb2a8d5\")>, <selenium.webdriver.remote.webelement.WebElement (session=\"74c9d0e8f8467b08ea38cfe8edf5209e\", element=\"6d1a45d5-1e66-4873-90b7-6870cf33ae8f\")>, <selenium.webdriver.remote.webelement.WebElement (session=\"74c9d0e8f8467b08ea38cfe8edf5209e\", element=\"ea424202-65e7-4a52-a44e-040c1798e35d\")>, <selenium.webdriver.remote.webelement.WebElement (session=\"74c9d0e8f8467b08ea38cfe8edf5209e\", element=\"b480a356-00e5-4229-844b-14d78cb1c6ea\")>, <selenium.webdriver.remote.webelement.WebElement (session=\"74c9d0e8f8467b08ea38cfe8edf5209e\", element=\"b6e2e296-d2cb-4fb9-a897-79e6877f45ba\")>, <selenium.webdriver.remote.webelement.WebElement (session=\"74c9d0e8f8467b08ea38cfe8edf5209e\", element=\"2c8107b7-d03e-4440-b480-2c6706ad59a2\")>, <selenium.webdriver.remote.webelement.WebElement (session=\"74c9d0e8f8467b08ea38cfe8edf5209e\", element=\"735dfe6c-1098-4a44-961d-982fd6c2d622\")>, <selenium.webdriver.remote.webelement.WebElement (session=\"74c9d0e8f8467b08ea38cfe8edf5209e\", element=\"b19d32f1-a9cd-483e-a375-75d4a9d9a043\")>, <selenium.webdriver.remote.webelement.WebElement (session=\"74c9d0e8f8467b08ea38cfe8edf5209e\", element=\"8fcb5dd0-36ec-46e6-8d89-60fbb2805c6f\")>, <selenium.webdriver.remote.webelement.WebElement (session=\"74c9d0e8f8467b08ea38cfe8edf5209e\", element=\"e820608f-c06d-4cec-a528-2d682c10d458\")>, <selenium.webdriver.remote.webelement.WebElement (session=\"74c9d0e8f8467b08ea38cfe8edf5209e\", element=\"1afecdbe-da56-4839-8461-5e6c49a84ab4\")>, <selenium.webdriver.remote.webelement.WebElement (session=\"74c9d0e8f8467b08ea38cfe8edf5209e\", element=\"3cbeee54-319d-4cc4-b49d-8c132ab76672\")>, <selenium.webdriver.remote.webelement.WebElement (session=\"74c9d0e8f8467b08ea38cfe8edf5209e\", element=\"af309238-8051-47d7-9b72-123219a381e8\")>, <selenium.webdriver.remote.webelement.WebElement (session=\"74c9d0e8f8467b08ea38cfe8edf5209e\", element=\"3723368d-82f1-429d-b3db-88a10cf24652\")>, <selenium.webdriver.remote.webelement.WebElement (session=\"74c9d0e8f8467b08ea38cfe8edf5209e\", element=\"3d39ccfe-e2bf-4ca1-a3ee-81c4977353f0\")>, <selenium.webdriver.remote.webelement.WebElement (session=\"74c9d0e8f8467b08ea38cfe8edf5209e\", element=\"3362e06e-0480-4120-9a48-0956f0e9e952\")>, <selenium.webdriver.remote.webelement.WebElement (session=\"74c9d0e8f8467b08ea38cfe8edf5209e\", element=\"8d6a1b73-c231-415f-ac73-e0bb949e389c\")>, <selenium.webdriver.remote.webelement.WebElement (session=\"74c9d0e8f8467b08ea38cfe8edf5209e\", element=\"acdfde86-3778-470a-8ffc-4b63b8bd0f5b\")>, <selenium.webdriver.remote.webelement.WebElement (session=\"74c9d0e8f8467b08ea38cfe8edf5209e\", element=\"fd5bd102-536b-4f8e-82b1-a24b376a1d9d\")>, <selenium.webdriver.remote.webelement.WebElement (session=\"74c9d0e8f8467b08ea38cfe8edf5209e\", element=\"db74be7f-4de0-4322-ad97-111472e54411\")>, <selenium.webdriver.remote.webelement.WebElement (session=\"74c9d0e8f8467b08ea38cfe8edf5209e\", element=\"a2a751a0-e335-4369-8eb8-9b3ce7fd2485\")>, <selenium.webdriver.remote.webelement.WebElement (session=\"74c9d0e8f8467b08ea38cfe8edf5209e\", element=\"d258c36d-195c-40cf-89bf-c424dae985e1\")>, <selenium.webdriver.remote.webelement.WebElement (session=\"74c9d0e8f8467b08ea38cfe8edf5209e\", element=\"6c2c1c56-e619-4c2f-959a-62b01301aea9\")>, <selenium.webdriver.remote.webelement.WebElement (session=\"74c9d0e8f8467b08ea38cfe8edf5209e\", element=\"7655ff16-14d3-44e7-9256-cd37467387f3\")>]\n",
      "###BEGIN###\n",
      "https://www.linkedin.com/jobs/search/?currentJobId=3048978395\n",
      "Student Data Analyst\n",
      "Liva Healthcare\n",
      "Copenhagen, Capital Region, Denmark\n",
      "Part-time\n",
      "###BEGIN###\n",
      "https://www.linkedin.com/jobs/search/?currentJobId=3036192492\n",
      "Global Service Data Analyst\n",
      "Marel\n",
      "Copenhagen, Capital Region, Denmark\n",
      "Full-time · Mid-Senior level\n",
      "###BEGIN###\n",
      "https://www.linkedin.com/jobs/search/?currentJobId=3051524218\n",
      "GFCP Senior Expert - Data Analyst\n",
      "Nordea\n",
      "Copenhagen, Capital Region, Denmark\n",
      "Full-time · Associate\n"
     ]
    },
    {
     "ename": "KeyboardInterrupt",
     "evalue": "",
     "output_type": "error",
     "traceback": [
      "\u001b[1;31m---------------------------------------------------------------------------\u001b[0m",
      "\u001b[1;31mKeyboardInterrupt\u001b[0m                         Traceback (most recent call last)",
      "\u001b[1;32mc:\\Users\\Admin\\Desktop\\linkedinscraper\\linkedinscraper.ipynb Cell 8'\u001b[0m in \u001b[0;36m<cell line: 5>\u001b[1;34m()\u001b[0m\n\u001b[0;32m     <a href='vscode-notebook-cell:/c%3A/Users/Admin/Desktop/linkedinscraper/linkedinscraper.ipynb#ch0000005?line=44'>45</a>\u001b[0m \u001b[39m#demands\u001b[39;00m\n\u001b[0;32m     <a href='vscode-notebook-cell:/c%3A/Users/Admin/Desktop/linkedinscraper/linkedinscraper.ipynb#ch0000005?line=45'>46</a>\u001b[0m requirements\u001b[39m.\u001b[39mappend(\u001b[39m\"\u001b[39m\u001b[39mWIP\u001b[39m\u001b[39m\"\u001b[39m)\n\u001b[1;32m---> <a href='vscode-notebook-cell:/c%3A/Users/Admin/Desktop/linkedinscraper/linkedinscraper.ipynb#ch0000005?line=47'>48</a>\u001b[0m sleep(\u001b[39m5\u001b[39;49m)\n",
      "\u001b[1;31mKeyboardInterrupt\u001b[0m: "
     ]
    }
   ],
   "source": [
    "#list jobs\n",
    "list_items = browser.find_elements(By.CLASS_NAME,\"occludable-update\")\n",
    "# scrolls a single page:\n",
    "print(list_items)\n",
    "for job in list_items:\n",
    "    # executes JavaScript to scroll the div into view\n",
    "    browser.execute_script(\"arguments[0].scrollIntoView();\", job)\n",
    "    job.click()\n",
    "    page_source = browser.page_source\n",
    "    #getting url\n",
    "    url = browser.current_url\n",
    "    url = re.sub(r'&keywords=data%20analyst&refresh=true','',url)\n",
    "    print(\"###BEGIN###\")\n",
    "    print(url)\n",
    "    pageSources.append(url)\n",
    "    \n",
    "    #souping\n",
    "    soup = souper(page_source)\n",
    "    \n",
    "    #job title\n",
    "    position = soupfinder('h2','t-24 t-bold')\n",
    "    print(position)\n",
    "    positions.append(position)\n",
    "    \n",
    "    # company name\n",
    "    compName = soupfinder('span',\"jobs-unified-top-card__company-name\")\n",
    "    compName=compName.strip()\n",
    "    compName=compName.strip()\n",
    "    print(compName)\n",
    "    companyNames.append(compName)\n",
    "    \n",
    "    # locations\n",
    "    location = soupfinder('span', \"jobs-unified-top-card__bullet\")\n",
    "    location = location.strip()\n",
    "    print(location)\n",
    "    locations.append(location)\n",
    "    #employment type\n",
    "    span_tag = soup.find(name=\"li\",class_=\"jobs-unified-top-card__job-insight\",)\n",
    "    sleep(2)\n",
    "    contract = span_tag.find(\"span\").text\n",
    "    contract = contract.strip()\n",
    "    print(contract)\n",
    "    contractTypes.append(contract)\n",
    "    \n",
    "    #demands\n",
    "    requirements.append(\"WIP\")\n",
    "    \n",
    "    sleep(5)\n",
    "    \n",
    "  \n",
    "    \n"
   ]
  },
  {
   "cell_type": "code",
   "execution_count": 155,
   "metadata": {},
   "outputs": [
    {
     "name": "stdout",
     "output_type": "stream",
     "text": [
      "['Liva Healthcare', 'Marel', 'Nordea']\n",
      "3\n",
      "['https://www.linkedin.com/jobs/search/?currentJobId=3048978395', 'https://www.linkedin.com/jobs/search/?currentJobId=3036192492', 'https://www.linkedin.com/jobs/search/?currentJobId=3051524218']\n",
      "3\n",
      "['Student Data Analyst', 'Global Service Data Analyst', 'GFCP Senior Expert - Data Analyst']\n",
      "3\n",
      "['Part-time', 'Full-time · Mid-Senior level', 'Full-time · Associate']\n",
      "3\n",
      "['Copenhagen, Capital Region, Denmark', 'Copenhagen, Capital Region, Denmark', 'Copenhagen, Capital Region, Denmark']\n",
      "3\n",
      "['WIP', 'WIP', 'WIP']\n",
      "3\n"
     ]
    }
   ],
   "source": [
    "#testing\n",
    "print(companyNames)\n",
    "print(len(companyNames))\n",
    "print(pageSources)\n",
    "print(len(pageSources))\n",
    "print(positions)\n",
    "print(len(positions))\n",
    "print(contractTypes)\n",
    "print(len(contractTypes))\n",
    "print(locations)\n",
    "print(len(locations))\n",
    "print(requirements)\n",
    "print(len(requirements))"
   ]
  },
  {
   "cell_type": "code",
   "execution_count": 156,
   "metadata": {},
   "outputs": [
    {
     "data": {
      "text/html": [
       "<div>\n",
       "<style scoped>\n",
       "    .dataframe tbody tr th:only-of-type {\n",
       "        vertical-align: middle;\n",
       "    }\n",
       "\n",
       "    .dataframe tbody tr th {\n",
       "        vertical-align: top;\n",
       "    }\n",
       "\n",
       "    .dataframe thead th {\n",
       "        text-align: right;\n",
       "    }\n",
       "</style>\n",
       "<table border=\"1\" class=\"dataframe\">\n",
       "  <thead>\n",
       "    <tr style=\"text-align: right;\">\n",
       "      <th></th>\n",
       "      <th>company name</th>\n",
       "      <th>link</th>\n",
       "      <th>position</th>\n",
       "      <th>contract type</th>\n",
       "      <th>location</th>\n",
       "      <th>requirements</th>\n",
       "    </tr>\n",
       "  </thead>\n",
       "  <tbody>\n",
       "    <tr>\n",
       "      <th>0</th>\n",
       "      <td>Liva Healthcare</td>\n",
       "      <td>https://www.linkedin.com/jobs/search/?currentJ...</td>\n",
       "      <td>Student Data Analyst</td>\n",
       "      <td>Part-time</td>\n",
       "      <td>Copenhagen, Capital Region, Denmark</td>\n",
       "      <td>WIP</td>\n",
       "    </tr>\n",
       "    <tr>\n",
       "      <th>1</th>\n",
       "      <td>Marel</td>\n",
       "      <td>https://www.linkedin.com/jobs/search/?currentJ...</td>\n",
       "      <td>Global Service Data Analyst</td>\n",
       "      <td>Full-time · Mid-Senior level</td>\n",
       "      <td>Copenhagen, Capital Region, Denmark</td>\n",
       "      <td>WIP</td>\n",
       "    </tr>\n",
       "    <tr>\n",
       "      <th>2</th>\n",
       "      <td>Nordea</td>\n",
       "      <td>https://www.linkedin.com/jobs/search/?currentJ...</td>\n",
       "      <td>GFCP Senior Expert - Data Analyst</td>\n",
       "      <td>Full-time · Associate</td>\n",
       "      <td>Copenhagen, Capital Region, Denmark</td>\n",
       "      <td>WIP</td>\n",
       "    </tr>\n",
       "  </tbody>\n",
       "</table>\n",
       "</div>"
      ],
      "text/plain": [
       "      company name                                               link  \\\n",
       "0  Liva Healthcare  https://www.linkedin.com/jobs/search/?currentJ...   \n",
       "1            Marel  https://www.linkedin.com/jobs/search/?currentJ...   \n",
       "2           Nordea  https://www.linkedin.com/jobs/search/?currentJ...   \n",
       "\n",
       "                            position                 contract type  \\\n",
       "0               Student Data Analyst                     Part-time   \n",
       "1        Global Service Data Analyst  Full-time · Mid-Senior level   \n",
       "2  GFCP Senior Expert - Data Analyst         Full-time · Associate   \n",
       "\n",
       "                              location requirements  \n",
       "0  Copenhagen, Capital Region, Denmark          WIP  \n",
       "1  Copenhagen, Capital Region, Denmark          WIP  \n",
       "2  Copenhagen, Capital Region, Denmark          WIP  "
      ]
     },
     "execution_count": 156,
     "metadata": {},
     "output_type": "execute_result"
    }
   ],
   "source": [
    "#making a pd dataframe\n",
    "resultsdataframe = pd.DataFrame({\"company name\": companyNames,\n",
    "                                 \"link\": pageSources,\n",
    "                                \"position\":positions,\n",
    "                                \"contract type\":contractTypes,\n",
    "                                \"location\":locations,\n",
    "                                \"requirements\":requirements})\n",
    "resultsdataframe"
   ]
  }
 ],
 "metadata": {
  "interpreter": {
   "hash": "bfb4883d108fc92ac768439090a2e92bb9a1f760a54beeecfd6762b5dcd70fe3"
  },
  "kernelspec": {
   "display_name": "Python 3.10.1 64-bit",
   "language": "python",
   "name": "python3"
  },
  "language_info": {
   "codemirror_mode": {
    "name": "ipython",
    "version": 3
   },
   "file_extension": ".py",
   "mimetype": "text/x-python",
   "name": "python",
   "nbconvert_exporter": "python",
   "pygments_lexer": "ipython3",
   "version": "3.10.1"
  },
  "orig_nbformat": 4
 },
 "nbformat": 4,
 "nbformat_minor": 2
}
